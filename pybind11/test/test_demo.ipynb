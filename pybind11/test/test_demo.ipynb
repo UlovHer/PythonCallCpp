{
 "cells": [
  {
   "cell_type": "markdown",
   "metadata": {},
   "source": [
    "## use pybind11\n",
    "- 绑定函数\n",
    "- 绑定class"
   ]
  },
  {
   "cell_type": "code",
   "execution_count": 8,
   "metadata": {},
   "outputs": [
    {
     "name": "stdout",
     "output_type": "stream",
     "text": [
      "Note: you may need to restart the kernel to use updated packages.\n"
     ]
    },
    {
     "name": "stderr",
     "output_type": "stream",
     "text": [
      "WARNING: You are using pip version 19.2.3, however version 21.3.1 is available.\n",
      "You should consider upgrading via the 'python -m pip install --upgrade pip' command.\n"
     ]
    },
    {
     "name": "stdout",
     "output_type": "stream",
     "text": [
      "Package             Version\n",
      "------------------- -------\n",
      "argcomplete         1.12.3 \n",
      "attrs               21.2.0 \n",
      "backcall            0.2.0  \n",
      "bleach              4.1.0  \n",
      "colorama            0.4.4  \n",
      "debugpy             1.5.1  \n",
      "decorator           5.1.0  \n",
      "defusedxml          0.7.1  \n",
      "entrypoints         0.3    \n",
      "importlib-metadata  4.8.2  \n",
      "importlib-resources 5.4.0  \n",
      "ipykernel           6.5.1  \n",
      "ipython             7.29.0 \n",
      "ipython-genutils    0.2.0  \n",
      "jedi                0.18.1 \n",
      "Jinja2              3.0.3  \n",
      "jsonschema          4.2.1  \n",
      "jupyter-client      7.1.0  \n",
      "jupyter-core        4.9.1  \n",
      "jupyterlab-pygments 0.1.2  \n",
      "MarkupSafe          2.0.1  \n",
      "matplotlib-inline   0.1.3  \n",
      "mistune             0.8.4  \n",
      "nbclient            0.5.9  \n",
      "nbconvert           6.3.0  \n",
      "nbformat            5.1.3  \n",
      "nest-asyncio        1.5.1  \n",
      "numpy               1.21.4 \n",
      "packaging           21.3   \n",
      "pandocfilters       1.5.0  \n",
      "parso               0.8.2  \n",
      "pickleshare         0.7.5  \n",
      "pip                 19.2.3 \n",
      "prompt-toolkit      3.0.22 \n",
      "Pygments            2.10.0 \n",
      "pyparsing           3.0.6  \n",
      "pyrsistent          0.18.0 \n",
      "python-dateutil     2.8.2  \n",
      "pywin32             302    \n",
      "pyzmq               22.3.0 \n",
      "setuptools          41.2.0 \n",
      "six                 1.16.0 \n",
      "testpath            0.5.0  \n",
      "tornado             6.1    \n",
      "traitlets           5.1.1  \n",
      "typing-extensions   4.0.0  \n",
      "wcwidth             0.2.5  \n",
      "webencodings        0.5.1  \n",
      "zipp                3.6.0  \n"
     ]
    }
   ],
   "source": [
    "pip list"
   ]
  },
  {
   "cell_type": "markdown",
   "metadata": {},
   "source": [
    "### 绑定函数"
   ]
  },
  {
   "cell_type": "code",
   "execution_count": 1,
   "metadata": {},
   "outputs": [],
   "source": [
    "from lib import bind_func"
   ]
  },
  {
   "cell_type": "markdown",
   "metadata": {},
   "source": [
    "#### 位置参数"
   ]
  },
  {
   "cell_type": "code",
   "execution_count": 2,
   "metadata": {},
   "outputs": [
    {
     "data": {
      "text/plain": [
       "'consonant'"
      ]
     },
     "execution_count": 2,
     "metadata": {},
     "output_type": "execute_result"
    }
   ],
   "source": [
    "input_char='F'\n",
    "bind_func.vowelOrConsonant(input_char=input_char)\n",
    "# 使用位置参数"
   ]
  },
  {
   "cell_type": "code",
   "execution_count": null,
   "metadata": {},
   "outputs": [],
   "source": [
    "#### 基本数据类型"
   ]
  },
  {
   "cell_type": "code",
   "execution_count": 2,
   "metadata": {},
   "outputs": [
    {
     "name": "stdout",
     "output_type": "stream",
     "text": [
      "3\n"
     ]
    }
   ],
   "source": [
    "res = bind_func.add(1,2)\n",
    "print(res)"
   ]
  },
  {
   "cell_type": "markdown",
   "metadata": {},
   "source": [
    "#### 字符串类型"
   ]
  },
  {
   "cell_type": "code",
   "execution_count": 2,
   "metadata": {},
   "outputs": [
    {
     "name": "stdout",
     "output_type": "stream",
     "text": [
      "True\n"
     ]
    }
   ],
   "source": [
    "input_str = \"teet\"\n",
    "# std::string s\n",
    "# string映射为string\n",
    "p_flag=bind_func.isPalindrome(input_str)\n",
    "print(p_flag)"
   ]
  },
  {
   "cell_type": "markdown",
   "metadata": {},
   "source": [
    "#### vector类型"
   ]
  },
  {
   "cell_type": "code",
   "execution_count": 4,
   "metadata": {},
   "outputs": [
    {
     "name": "stdout",
     "output_type": "stream",
     "text": [
      "[3, 3, 5, 5, 6, 7]\n"
     ]
    }
   ],
   "source": [
    "nums = [1,3,-1,-3,5,3,6,7]\n",
    "k = 3\n",
    "# std::vector<int> &nums, int k\n",
    "# vector映射为list\n",
    "res = bind_func.maxSlidingWindow(nums,k)\n",
    "print(res)"
   ]
  },
  {
   "cell_type": "code",
   "execution_count": null,
   "metadata": {},
   "outputs": [],
   "source": [
    "#### map类型"
   ]
  },
  {
   "cell_type": "code",
   "execution_count": 8,
   "metadata": {},
   "outputs": [
    {
     "name": "stdout",
     "output_type": "stream",
     "text": [
      "{'X1_image': 1.8708287477493286, 'X1_real': -1.0, 'X2_image': -1.8708287477493286, 'X2_real': -1.0}\n"
     ]
    },
    {
     "data": {
      "text/plain": [
       "dict"
      ]
     },
     "execution_count": 8,
     "metadata": {},
     "output_type": "execute_result"
    }
   ],
   "source": [
    "a = 2\n",
    "b = 4\n",
    "c = 9\n",
    "equations_ans=bind_func.solvingEquations(a=a, b=b, c=c)\n",
    "print(equations_ans)\n",
    "# 返回值std::map<std::string, float>映射为dict\n",
    "# type(equations_ans)"
   ]
  },
  {
   "cell_type": "markdown",
   "metadata": {},
   "source": [
    "#### 指针类型"
   ]
  },
  {
   "cell_type": "code",
   "execution_count": 10,
   "metadata": {},
   "outputs": [
    {
     "name": "stdout",
     "output_type": "stream",
     "text": [
      "10\n"
     ]
    }
   ],
   "source": [
    "import numpy as np\n",
    "# int *a, int *b\n",
    "# buffer类型映射为指针\n",
    "a= np.array(1)\n",
    "b =np.array(10)\n",
    "bind_func.swap(a,b)\n",
    "print(a)"
   ]
  },
  {
   "cell_type": "markdown",
   "metadata": {},
   "source": [
    "#### 结构体"
   ]
  },
  {
   "cell_type": "code",
   "execution_count": 6,
   "metadata": {},
   "outputs": [
    {
     "data": {
      "text/plain": [
       "'Jack'"
      ]
     },
     "execution_count": 6,
     "metadata": {},
     "output_type": "execute_result"
    }
   ],
   "source": [
    "stu = bind_func.Student(\"Tom\")\n",
    "stu.getName()\n",
    "stu.setName(\"Jack\")\n",
    "stu.getName()"
   ]
  },
  {
   "cell_type": "markdown",
   "metadata": {},
   "source": [
    "### 绑定类"
   ]
  },
  {
   "cell_type": "code",
   "execution_count": 5,
   "metadata": {},
   "outputs": [
    {
     "data": {
      "text/plain": [
       "'wooof!'"
      ]
     },
     "execution_count": 5,
     "metadata": {},
     "output_type": "execute_result"
    }
   ],
   "source": [
    "from lib import bind_class\n",
    "dog = bind_class.Dog()\n",
    "# 直接使用已经定义的Dog类\n",
    "bind_class.call_go(dog)"
   ]
  },
  {
   "cell_type": "code",
   "execution_count": 2,
   "metadata": {},
   "outputs": [],
   "source": [
    "class Cat(bind_class.Animal):\n",
    "    def go(self,n_times):\n",
    "        return \"meow!\"*n_times"
   ]
  },
  {
   "cell_type": "code",
   "execution_count": 3,
   "metadata": {},
   "outputs": [
    {
     "data": {
      "text/plain": [
       "'meow!meow!meow!'"
      ]
     },
     "execution_count": 3,
     "metadata": {},
     "output_type": "execute_result"
    }
   ],
   "source": [
    "cat=Cat()\n",
    "bind_class.call_go(cat)"
   ]
  },
  {
   "cell_type": "code",
   "execution_count": 4,
   "metadata": {},
   "outputs": [],
   "source": [
    "# 在Python中派生子类时,父类构造必须显示调用,不能使用super\n",
    "class Dachshund(bind_class.Dog):\n",
    "    def __init__(self,name) -> None:\n",
    "        # super().__init__()\n",
    "        bind_class.Dog.__init__(self)\n",
    "        self.name=name\n",
    "    def bark(self):\n",
    "        return \"yap!\""
   ]
  },
  {
   "cell_type": "code",
   "execution_count": 5,
   "metadata": {},
   "outputs": [
    {
     "data": {
      "text/plain": [
       "'yap!'"
      ]
     },
     "execution_count": 5,
     "metadata": {},
     "output_type": "execute_result"
    }
   ],
   "source": [
    "dachshund=Dachshund(name=\"腊肠犬\")\n",
    "dachshund.bark()"
   ]
  },
  {
   "cell_type": "markdown",
   "metadata": {},
   "source": [
    "### 绑定异常"
   ]
  }
 ],
 "metadata": {
  "interpreter": {
   "hash": "61e399293785421fd18d40ef8ec927fbb09113210048e216099efbb81e750afe"
  },
  "kernelspec": {
   "display_name": "Python 3.7.6 64-bit ('venv': venv)",
   "language": "python",
   "name": "python3"
  },
  "language_info": {
   "codemirror_mode": {
    "name": "ipython",
    "version": 3
   },
   "file_extension": ".py",
   "mimetype": "text/x-python",
   "name": "python",
   "nbconvert_exporter": "python",
   "pygments_lexer": "ipython3",
   "version": "3.7.6"
  },
  "orig_nbformat": 4
 },
 "nbformat": 4,
 "nbformat_minor": 2
}
