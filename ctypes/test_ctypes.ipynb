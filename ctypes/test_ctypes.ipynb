{
  "cells": [
    {
      "cell_type": "markdown",
      "metadata": {},
      "source": [
        "### use ctypes\n",
        "使用ctypes调用C动态库，如果调用C++动态库，参数必须符合类型"
      ]
    },
    {
      "cell_type": "markdown",
      "metadata": {},
      "source": [
        "### 动态库编译\n",
        "- Windows可直接使用CMake\n",
        "- Linux可直接使用gcc命令编译，也可使用CMake"
      ]
    },
    {
      "cell_type": "code",
      "execution_count": null,
      "metadata": {
        "colab": {
          "base_uri": "https://localhost:8080/"
        },
        "id": "vBUqViwQ_hJg",
        "outputId": "37f9e812-1cd7-4b95-a6ca-95ffa7a00863"
      },
      "outputs": [],
      "source": [
        "cat /proc/version\n",
        "cd c_src\n",
        "gcc sample.c -shared -fPIC -o libsample.so\n",
        "mv -f libsample.so ../ctypes/lib"
      ]
    },
    {
      "cell_type": "code",
      "execution_count": 6,
      "metadata": {},
      "outputs": [
        {
          "name": "stdout",
          "output_type": "stream",
          "text": [
            "7\n",
            "1\n",
            "0\n",
            "(5, 2)\n",
            "2.0\n",
            "4.242640687119285\n"
          ]
        }
      ],
      "source": [
        "cd ../ctypes\n",
        "python example.py"
      ]
    },
    {
      "cell_type": "markdown",
      "metadata": {},
      "source": [
        "### 基本数据类型参数"
      ]
    },
    {
      "cell_type": "code",
      "execution_count": 7,
      "metadata": {},
      "outputs": [
        {
          "name": "stdout",
          "output_type": "stream",
          "text": [
            "7\n"
          ]
        }
      ],
      "source": [
        "# int类型\n",
        "import ctypes\n",
        "import os\n",
        "\n",
        "_path = './lib/libsample.dll'\n",
        "_mod = ctypes.cdll.LoadLibrary(_path)\n",
        "# int gcd(int, int)\n",
        "gcd = _mod.gcd\n",
        "gcd.argtypes = (ctypes.c_int, ctypes.c_int)\n",
        "# 指定输入参数类型，将python的int使用ctypes转换为c_int,适合c语言的类型\n",
        "gcd.restype = ctypes.c_int\n",
        "# 指定返回参数类型，默认为c_int\n",
        "print(gcd(35,42))"
      ]
    },
    {
      "cell_type": "markdown",
      "metadata": {},
      "source": [
        "### 数组类型参数"
      ]
    },
    {
      "cell_type": "code",
      "execution_count": 8,
      "metadata": {},
      "outputs": [
        {
          "name": "stdout",
          "output_type": "stream",
          "text": [
            "5\n"
          ]
        }
      ],
      "source": [
        "# int数组\n",
        "import ctypes\n",
        "import os\n",
        "\n",
        "_path = './lib/libsample.dll'\n",
        "_mod = ctypes.cdll.LoadLibrary(_path)\n",
        "get_elem = _mod.get_elem\n",
        "get_elem.argtypes = (ctypes.Array,ctypes.c_int)\n",
        "get_elem.restype = ctypes.c_int\n",
        "int_array_10=ctypes.c_int*10\n",
        "intput_array=int_array_10()\n",
        "index =ctypes.c_int(2)\n",
        "intput_array[2]=ctypes.c_int(5)\n",
        "elem = get_elem(intput_array,index)\n",
        "print(elem)"
      ]
    },
    {
      "cell_type": "markdown",
      "metadata": {},
      "source": [
        "### 普通指针类型参数"
      ]
    },
    {
      "cell_type": "code",
      "execution_count": 9,
      "metadata": {
        "colab": {
          "base_uri": "https://localhost:8080/",
          "height": 34
        },
        "id": "ig9VgFk_KOxu",
        "outputId": "944ba27b-b2c3-4b91-ffaf-720ceebca25b"
      },
      "outputs": [
        {
          "data": {
            "text/plain": [
              "3"
            ]
          },
          "execution_count": 9,
          "metadata": {},
          "output_type": "execute_result"
        }
      ],
      "source": [
        "# int指针\n",
        "import ctypes\n",
        "import os\n",
        "\n",
        "_path = './lib/libsample.dll'\n",
        "_mod = ctypes.cdll.LoadLibrary(_path)\n",
        "divide = _mod.divide\n",
        "# int divide(int, int, int *),整型指针转换\n",
        "# divide.argtypes = (ctypes.c_int,ctypes.c_int,ctypes.c_int)\n",
        "# 指定输入参数类型\n",
        "divide.argtypes = (ctypes.c_int,ctypes.c_int,ctypes.POINTER(ctypes.c_int))\n",
        "# divide.restype\n",
        "# 若无返回值,或者不接收,可不制定返回值类型\n",
        "# x = 0 \n",
        "# x = 0,违反python之中整数不可修改\n",
        "x = ctypes.c_int()\n",
        "divide(10,3,x)"
      ]
    },
    {
      "cell_type": "code",
      "execution_count": 12,
      "metadata": {
        "colab": {
          "base_uri": "https://localhost:8080/",
          "height": 51
        },
        "id": "ZRm2Q8cZwJbf",
        "outputId": "320c46e8-aa9e-4e4f-e5d4-0bb47373bb26"
      },
      "outputs": [
        {
          "name": "stdout",
          "output_type": "stream",
          "text": [
            "<__main__.c_byte_Array_4 object at 0x00000274E91671C8>\n"
          ]
        },
        {
          "data": {
            "text/plain": [
              "<ctypes.wintypes.LP_c_long at 0x274e9167248>"
            ]
          },
          "execution_count": 12,
          "metadata": {},
          "output_type": "execute_result"
        }
      ],
      "source": [
        "# bytez转int指针\n",
        "import ctypes\n",
        "\n",
        "a = (ctypes.c_byte * 4)()\n",
        "print(a)\n",
        "ctypes.cast(a, ctypes.POINTER(ctypes.c_int))\n",
        "# cast()函数可用于将ctypes实例转换为指向不同ctypes数据类型的指针"
      ]
    },
    {
      "cell_type": "code",
      "execution_count": 13,
      "metadata": {
        "colab": {
          "base_uri": "https://localhost:8080/",
          "height": 68
        },
        "id": "iVIsqaPo3DNz",
        "outputId": "c4e3e520-5d7f-43b0-d35a-23334ed0a7de"
      },
      "outputs": [
        {
          "name": "stdout",
          "output_type": "stream",
          "text": [
            "1 2 3\n",
            "列表元素个数： 3\n",
            "<__main__.c_double_Array_3 object at 0x00000274E86E33C8>\n"
          ]
        }
      ],
      "source": [
        "# double指针\n",
        "import ctypes\n",
        "\n",
        "nums = [1, 2, 3]\n",
        "print(*nums)\n",
        "# 向函数传递参数，*将变量中可迭代对象的元素拆解出来,\n",
        "# 作为独立的参数第传给函数\n",
        "\n",
        "print('列表元素个数：',len(nums))\n",
        "\n",
        "a = (ctypes.c_double * len(nums))(*nums)\n",
        "# 将list中每个元素转化为数组中的元素\n",
        "print(a)"
      ]
    },
    {
      "cell_type": "code",
      "execution_count": 14,
      "metadata": {
        "colab": {
          "base_uri": "https://localhost:8080/",
          "height": 51
        },
        "id": "Xk1OWFC37STE",
        "outputId": "30d1070e-0810-4ac4-ea4c-d2e483997f52"
      },
      "outputs": [
        {
          "name": "stdout",
          "output_type": "stream",
          "text": [
            "[1 2 3]\n",
            "<__main__.LP_c_double object at 0x00000274E9167548>\n"
          ]
        }
      ],
      "source": [
        "# numpy转double指针\n",
        "import numpy\n",
        "import ctypes\n",
        "\n",
        "a = numpy.array([1,2,3])\n",
        "print(a)\n",
        "a = a.ctypes.data_as(ctypes.POINTER(ctypes.c_double))\n",
        "# ctypes.data_as返回转换为特定c类型对象的数据指针,为其缓冲区地址\n",
        "# 内部任然是调用cast()\n",
        "print(a)"
      ]
    },
    {
      "cell_type": "markdown",
      "metadata": {},
      "source": [
        "### 结构体类型参数"
      ]
    },
    {
      "cell_type": "code",
      "execution_count": 15,
      "metadata": {
        "colab": {
          "base_uri": "https://localhost:8080/",
          "height": 34
        },
        "id": "jOdlkpZaHANu",
        "outputId": "2bec2821-4407-470c-c257-8496e66a2577"
      },
      "outputs": [
        {
          "data": {
            "text/plain": [
              "4.242640687119285"
            ]
          },
          "execution_count": 15,
          "metadata": {},
          "output_type": "execute_result"
        }
      ],
      "source": [
        "# 结构体\n",
        "import ctypes\n",
        "import os\n",
        "\n",
        "_path = './lib/libsample.dll'\n",
        "_mod = ctypes.cdll.LoadLibrary(_path)\n",
        "\n",
        "class Point(ctypes.Structure):\n",
        "  _fields_ = [('x',ctypes.c_double),('y',ctypes.c_double)]\n",
        "# 需要定义一个类，包含相应的字段和类型，与c中结构体字段类型相对应\n",
        "\n",
        "distance = _mod.distance\n",
        "distance.argtypes = (ctypes.POINTER(Point),ctypes.POINTER(Point))\n",
        "distance.restype = ctypes.c_double\n",
        "# 指定返回值类型\n",
        "\n",
        "p1 = Point(1,2)\n",
        "p2 = Point(4,5)\n",
        "distance(p1,p2)"
      ]
    },
    {
      "cell_type": "markdown",
      "metadata": {},
      "source": [
        "### 字符串类型参数"
      ]
    },
    {
      "cell_type": "code",
      "execution_count": 16,
      "metadata": {},
      "outputs": [
        {
          "name": "stdout",
          "output_type": "stream",
          "text": [
            "olleh\n"
          ]
        }
      ],
      "source": [
        "# 字符串\n",
        "import ctypes\n",
        "import os\n",
        "\n",
        "_path = './lib/libsample.dll'\n",
        "_mod = ctypes.cdll.LoadLibrary(_path)\n",
        "reverse = _mod.reverse\n",
        "# char* reverse(char *),字符串指针类型转换\n",
        "# reverse.argtypes = (ctypes.c_char_p,)\n",
        "# 如果只有1个参数,需要加\",\",元组特性\n",
        "reverse.argtypes = [ctypes.c_char_p]\n",
        "reverse.restype = ctypes.c_char_p\n",
        "\n",
        "# inptu_str = ctypes.c_char_p(\"test_demo\".encode(\"utf-8\"))\n",
        "inptu_str = ctypes.c_char_p(bytes(\"hello\", 'utf-8'))\n",
        "res=reverse(inptu_str).decode('utf-8')\n",
        "print(res)\n"
      ]
    },
    {
      "cell_type": "markdown",
      "metadata": {},
      "source": [
        "### 函数指针类型参数"
      ]
    },
    {
      "cell_type": "code",
      "execution_count": 17,
      "metadata": {
        "colab": {
          "base_uri": "https://localhost:8080/",
          "height": 393
        },
        "id": "iNC1FcZhM3YQ",
        "outputId": "253e249a-c1e2-4c13-ee75-eb0913bb0f71"
      },
      "outputs": [
        {
          "name": "stdout",
          "output_type": "stream",
          "text": [
            "msvcrt.dll\n",
            "1\t6\t3\t2\t5\t\n",
            "<function py_func at 0x00000274E86C6E58> <ctypes.wintypes.LP_c_long object at 0x00000274E863EE48> <ctypes.wintypes.LP_c_long object at 0x00000274EF6DF9C8>\n",
            "<function py_func at 0x00000274E86C6E58> <ctypes.wintypes.LP_c_long object at 0x00000274E863EE48> <ctypes.wintypes.LP_c_long object at 0x00000274EF6DF9C8>\n",
            "<function py_func at 0x00000274E86C6E58> <ctypes.wintypes.LP_c_long object at 0x00000274E863EE48> <ctypes.wintypes.LP_c_long object at 0x00000274EF6DF9C8>\n",
            "<function py_func at 0x00000274E86C6E58> <ctypes.wintypes.LP_c_long object at 0x00000274E863EE48> <ctypes.wintypes.LP_c_long object at 0x00000274EF6DF9C8>\n",
            "<function py_func at 0x00000274E86C6E58> <ctypes.wintypes.LP_c_long object at 0x00000274E863EE48> <ctypes.wintypes.LP_c_long object at 0x00000274EF6DF9C8>\n",
            "<function py_func at 0x00000274E86C6E58> <ctypes.wintypes.LP_c_long object at 0x00000274E863EE48> <ctypes.wintypes.LP_c_long object at 0x00000274EF6DF9C8>\n",
            "<function py_func at 0x00000274E86C6E58> <ctypes.wintypes.LP_c_long object at 0x00000274E863EE48> <ctypes.wintypes.LP_c_long object at 0x00000274EF6DF9C8>\n",
            "<function py_func at 0x00000274E86C6E58> <ctypes.wintypes.LP_c_long object at 0x00000274E863EE48> <ctypes.wintypes.LP_c_long object at 0x00000274E86E37C8>\n",
            "<function py_func at 0x00000274E86C6E58> <ctypes.wintypes.LP_c_long object at 0x00000274E863EE48> <ctypes.wintypes.LP_c_long object at 0x00000274E86E37C8>\n",
            "<function py_func at 0x00000274E86C6E58> <ctypes.wintypes.LP_c_long object at 0x00000274E863EE48> <ctypes.wintypes.LP_c_long object at 0x00000274E86E37C8>\n",
            "1\t2\t3\t5\t6\t\n"
          ]
        }
      ],
      "source": [
        "# 函数指针\n",
        "import ctypes\n",
        "import platform\n",
        "\n",
        "# void qsort (void* base, size_t num, size_t size,int (*compar)(const int*,const int*));\n",
        "# 回调函数原型int compar(const int*,const int*)\n",
        "cdll_names={\n",
        "  'Linux':'lib.dylib',\n",
        "  'Windows':'msvcrt.dll'\n",
        "}\n",
        "path = cdll_names[platform.system()]\n",
        "print(path)\n",
        "cdll = ctypes.cdll.LoadLibrary(path)\n",
        "# 使用CFUNCTYPE创建ctypes的函数指针类型\n",
        "CMPFUNC = ctypes.CFUNCTYPE(ctypes.c_int, ctypes.POINTER(ctypes.c_int), ctypes.POINTER(ctypes.c_int))\n",
        "\n",
        "# 回调函数，用于给出元素之间大小的判断方法\n",
        "def py_func(a, b):\n",
        "  print(py_func, a, b)\n",
        "  return a[0] - b[0]\n",
        "\n",
        "array_5 = ctypes.c_int * 5\n",
        "a = array_5(1, 6, 3, 2, 5)\n",
        "for elem in a:\n",
        "  print(elem,end=\"\\t\")\n",
        "print()\n",
        "# 调用的是C标准库中的qsort函数\n",
        "cdll.qsort(a, len(a), ctypes.sizeof(ctypes.c_int), CMPFUNC(py_func))\n",
        "for elem in a:\n",
        "  print(elem,end=\"\\t\")\n",
        "print()"
      ]
    }
  ],
  "metadata": {
    "colab": {
      "collapsed_sections": [],
      "name": "LearnPython.ipynb",
      "provenance": []
    },
    "kernelspec": {
      "display_name": "Python 3",
      "name": "python3"
    },
    "language_info": {
      "codemirror_mode": {
        "name": "ipython",
        "version": 3
      },
      "file_extension": ".py",
      "mimetype": "text/x-python",
      "name": "python",
      "nbconvert_exporter": "python",
      "pygments_lexer": "ipython3",
      "version": "3.7.6"
    }
  },
  "nbformat": 4,
  "nbformat_minor": 0
}
